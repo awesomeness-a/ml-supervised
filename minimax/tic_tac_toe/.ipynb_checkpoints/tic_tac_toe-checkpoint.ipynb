{
 "cells": [
  {
   "cell_type": "markdown",
   "metadata": {},
   "source": [
    "# Tic-Tac-Toe game"
   ]
  },
  {
   "cell_type": "markdown",
   "metadata": {},
   "source": [
    "## Minimax\n",
    "\n",
    "The minimax algorithm is a _decision-making algorithm_ that is used for finding the best move in a two player game. It's a recursive algorithm. In order for us to determine if making move `A` is a good idea, we need to think about what our opponent would do if we made that move. \n",
    "\n",
    "We'd guess what our opponent would do by running the minimax algorithm from our opponent's point of view. In the hypothetical world where we made move `A`, what would they do? Surely they want to win as badly as we do, so they'd evaluate the strength of their move by thinking about what we would do if they made move `B`.\n",
    "\n",
    "As this process repeats, we can start to make a tree of these hypothetical game states. We'll eventually reach a point where the game is over — we'll reach a leaf of the tree. Either we won, our opponent won, or it was a tie. At this point, the recursion can stop. "
   ]
  },
  {
   "cell_type": "markdown",
   "metadata": {},
   "source": [
    "## Tic-Tac-Toe\n",
    "\n",
    "In this game, a board `my_board` is represented as a list of lists where the `X` player has already made the first move. "
   ]
  },
  {
   "cell_type": "code",
   "execution_count": 1,
   "metadata": {},
   "outputs": [
    {
     "name": "stdout",
     "output_type": "stream",
     "text": [
      "|-------------|\n",
      "| Tic Tac Toe |\n",
      "|-------------|\n",
      "|             |\n",
      "|    1 2 X    |\n",
      "|    4 5 6    |\n",
      "|    7 8 9    |\n",
      "|             |\n",
      "|-------------|\n",
      "\n"
     ]
    }
   ],
   "source": [
    "from tic_tac_toe import *\n",
    "\n",
    "my_board = [\n",
    "    ['1', '2', 'X'],\n",
    "    ['4', '5','6'],\n",
    "    ['7', '8', '9']\n",
    "]\n",
    "\n",
    "print_board(my_board)"
   ]
  },
  {
   "cell_type": "markdown",
   "metadata": {},
   "source": [
    "The `select_space()` function lets us take a turn. It takes three parameters:\n",
    "* The `board` that you want to take the turn on.\n",
    "* The `space` that you want to fill in. This should be a number between `1` and `9`.\n",
    "* The `symbol` that you want to put in that space. This should be a string — either an `X` or an `O`."
   ]
  },
  {
   "cell_type": "code",
   "execution_count": 2,
   "metadata": {},
   "outputs": [
    {
     "data": {
      "text/plain": [
       "True"
      ]
     },
     "execution_count": 2,
     "metadata": {},
     "output_type": "execute_result"
    }
   ],
   "source": [
    "select_space(my_board, 8, 'O')"
   ]
  },
  {
   "cell_type": "code",
   "execution_count": 3,
   "metadata": {},
   "outputs": [
    {
     "name": "stdout",
     "output_type": "stream",
     "text": [
      "|-------------|\n",
      "| Tic Tac Toe |\n",
      "|-------------|\n",
      "|             |\n",
      "|    1 2 X    |\n",
      "|    4 5 6    |\n",
      "|    7 O 9    |\n",
      "|             |\n",
      "|-------------|\n",
      "\n"
     ]
    }
   ],
   "source": [
    "print_board(my_board)"
   ]
  },
  {
   "cell_type": "markdown",
   "metadata": {},
   "source": [
    "We can also get a list of available spaces using `available_moves()` and passing the board as a parameter. "
   ]
  },
  {
   "cell_type": "code",
   "execution_count": 4,
   "metadata": {},
   "outputs": [
    {
     "data": {
      "text/plain": [
       "[1, 2, 4, 5, 6, 7, 9]"
      ]
     },
     "execution_count": 4,
     "metadata": {},
     "output_type": "execute_result"
    }
   ],
   "source": [
    "available_moves(my_board)"
   ]
  },
  {
   "cell_type": "markdown",
   "metadata": {},
   "source": [
    "Finally, we can check to see if someone has won the game. The `has_won()` function takes the `board` and a `symbol` (either `X` or `O`). It returns `True` if that symbol has won the game, and `False` otherwise. "
   ]
  },
  {
   "cell_type": "code",
   "execution_count": 5,
   "metadata": {},
   "outputs": [
    {
     "data": {
      "text/plain": [
       "False"
      ]
     },
     "execution_count": 5,
     "metadata": {},
     "output_type": "execute_result"
    }
   ],
   "source": [
    "has_won(my_board, 'X')"
   ]
  },
  {
   "cell_type": "markdown",
   "metadata": {},
   "source": [
    "## Detecting Tic-Tac-Toe Leaves\n",
    "\n",
    "An essential step in the minimax function is _evaluating_ the strength of a leaf. If the game gets to a certain leaf, we want to know if that was a better outcome for player `X` or for player `O`. \n",
    "\n",
    "Let's write this evaluation function for our game of Tic-Tac-Toe.\n",
    "\n",
    "First, we need to detect whether a board is a lead. A game of Tic-Tac-Toe is over if either player has won, or if there are no more open spaces. We can write a function that uses `has_won()` and `available_moves()` to check to see if the game is over. \n",
    "\n",
    "If the game is over, we now want to evaluate the state of the board. If `X` won, the board should have a value of `1`. If `O` won, the board should have a value of `-1`. If neither player won, it was a tie, and the board should have a value of `0`. "
   ]
  },
  {
   "cell_type": "code",
   "execution_count": 6,
   "metadata": {},
   "outputs": [],
   "source": [
    "def game_is_over(board):\n",
    "    if has_won(board, 'X') or has_won(board, 'O'):\n",
    "        return True\n",
    "    elif len(available_moves(board)) == 0:\n",
    "        return True\n",
    "    else:\n",
    "        return False"
   ]
  },
  {
   "cell_type": "code",
   "execution_count": 7,
   "metadata": {},
   "outputs": [
    {
     "name": "stdout",
     "output_type": "stream",
     "text": [
      "False\n",
      "True\n",
      "True\n",
      "True\n"
     ]
    }
   ],
   "source": [
    "start_board = [\n",
    "    [\"1\", \"2\", \"3\"],\n",
    "    [\"4\", \"5\", \"6\"],\n",
    "    [\"7\", \"8\", \"9\"]\n",
    "]\n",
    "\n",
    "x_won = [\n",
    "    [\"X\", \"O\", \"3\"],\n",
    "    [\"4\", \"X\", \"O\"],\n",
    "    [\"7\", \"8\", \"X\"]\n",
    "]\n",
    "\n",
    "o_won = [\n",
    "    [\"O\", \"X\", \"3\"],\n",
    "    [\"O\", \"X\", \"X\"],\n",
    "    [\"O\", \"8\", \"9\"]\n",
    "]\n",
    "\n",
    "tie = [\n",
    "    [\"X\", \"X\", \"O\"],\n",
    "    [\"O\", \"O\", \"X\"],\n",
    "    [\"X\", \"O\", \"X\"]\n",
    "]\n",
    "\n",
    "print(game_is_over(start_board))\n",
    "print(game_is_over(x_won))\n",
    "print(game_is_over(o_won))\n",
    "print(game_is_over(tie))"
   ]
  },
  {
   "cell_type": "code",
   "execution_count": 8,
   "metadata": {},
   "outputs": [
    {
     "name": "stdout",
     "output_type": "stream",
     "text": [
      "1\n",
      "-1\n",
      "0\n"
     ]
    }
   ],
   "source": [
    "def evaluate_board(board):\n",
    "    if has_won(board, 'X'):\n",
    "        return 1\n",
    "    elif has_won(board, 'O'):\n",
    "        return -1\n",
    "    else:\n",
    "        return 0\n",
    "    \n",
    "    \n",
    "if game_is_over(start_board):\n",
    "    print(evaluate_board(start_board))\n",
    "    \n",
    "if game_is_over(x_won):\n",
    "    print(evaluate_board(x_won))\n",
    "    \n",
    "if game_is_over(o_won):\n",
    "    print(evaluate_board(o_won))\n",
    "    \n",
    "if game_is_over(tie):\n",
    "    print(evaluate_board(tie))"
   ]
  },
  {
   "cell_type": "markdown",
   "metadata": {},
   "source": [
    "## Evaluate Leaves\n",
    "\n",
    "We now know that we can evaluate the leaves of a game tree, but how does that help us? How are we going to use those values to find the best possible move for a game state that isn't a leaf?\n",
    "\n",
    "Let’s imagine a situation where you’re playing as the `X` player in a game of Tic-Tac-Toe and the game is almost over. The game board isn’t a leaf but it’s close. You have three possible moves. All three moves will immediately end the game — each of those future boards will be leaves.\n",
    "\n",
    "Let’s say picking move A will result in you winning and moves B and C will each result in a tie. You’d clearly pick move A.\n",
    "\n",
    "By picking move A, you’ve picked the move that led to the board with the _highest_ value. You were picking between a `1` (an `X` win) or two `0`s (the moves that would lead to a tie). Because you picked the move with the highest value, we can say that `X` is the _maximizing_ player.\n",
    "\n",
    "Let’s say you were playing a the `O` player under the same circumstances. Picking move A would somehow immediately lead to `X` winning, while moves B and C would lead to a tie. You’d pick one of the boards that would lead to a tie. `O` is the minimizing player. You would love to pick a board with the value of `-1` (an `O` win), but unfortunately, that board doesn’t exist. You’ll have to settle with picking a board with the value of `0`. At least you prevent `X` from winning."
   ]
  },
  {
   "cell_type": "markdown",
   "metadata": {},
   "source": [
    "## Copying Boards\n",
    "\n",
    "One of the cenral ideas behind the minimax algorithm is the idea of exploring future hypothetical board states. Essentially, we're saying if we were to make this move, what would happen. As a result, as we're implementing this algorithm in our code, we don't want to actually make our move on the board. We want to make a copy of the board and make the move on that one. \n",
    "\n",
    "We can do that using the `deepcopy()` function from Python's `copy` library."
   ]
  },
  {
   "cell_type": "code",
   "execution_count": 9,
   "metadata": {},
   "outputs": [
    {
     "name": "stdout",
     "output_type": "stream",
     "text": [
      "|-------------|\n",
      "| Tic Tac Toe |\n",
      "|-------------|\n",
      "|             |\n",
      "|    1 2 X    |\n",
      "|    4 5 6    |\n",
      "|    7 O 9    |\n",
      "|             |\n",
      "|-------------|\n",
      "\n",
      "|-------------|\n",
      "| Tic Tac Toe |\n",
      "|-------------|\n",
      "|             |\n",
      "|    1 2 X    |\n",
      "|    4 O 6    |\n",
      "|    7 O 9    |\n",
      "|             |\n",
      "|-------------|\n",
      "\n"
     ]
    }
   ],
   "source": [
    "from copy import deepcopy\n",
    "\n",
    "new_board = deepcopy(my_board)\n",
    "\n",
    "select_space(new_board, 5, 'O')\n",
    "\n",
    "print_board(my_board)\n",
    "print_board(new_board)"
   ]
  },
  {
   "cell_type": "markdown",
   "metadata": {},
   "source": [
    "## The Minimax Function\n",
    "\n",
    "We're now ready to dive in and write our `minimax()` function. The result of this function will be the \"value\" of the best possible move. \n",
    "\n",
    "In other words, if the function returns a `1`, that means a move exists that guarantees that `X` will win.\n",
    "\n",
    "If the function returns a `-1`, that means that there's nothing that `X` can do to prevent `O` from winning. \n",
    "\n",
    "If the function returns a `0`, then the best `X` can do is force a tie (assuming `O` doesn't make a mistake).\n",
    "\n",
    "Our `minimax()` function has two parameters. The first is the game state that we're interested in finding the best move. When the `minimax()` function first gets called, this parameter is the current state of the game. We're asking \"what is the best move for the current player right now?\"\n",
    "\n",
    "The second parameter is a boolean named `is_maximizing` representing whose turn it is. If `is_maximizing` is `True`, then we know we're working with the maximizing player. This means when we're picking the \"best\" move from the list of moves, we'll pick the move with the _highest_ value. If `is_maximizing` is `False`, then we're the minimizng player and want to pick the minimum value. "
   ]
  },
  {
   "cell_type": "code",
   "execution_count": 10,
   "metadata": {},
   "outputs": [
    {
     "data": {
      "text/plain": [
       "[['X', '2', 'O'], ['4', 'O', '6'], ['7', 'X', 'X']]"
      ]
     },
     "execution_count": 10,
     "metadata": {},
     "output_type": "execute_result"
    }
   ],
   "source": [
    "def minimax(input_board, is_maximizing):\n",
    "    # base case—the game is over, so we return the value of the board\n",
    "    if game_is_over(input_board):\n",
    "        return evaluate_board(input_board)\n",
    "    if is_maximizing:\n",
    "        best_value = -float('Inf')\n",
    "        symbol = 'X'\n",
    "    else:\n",
    "        best_value = float('Inf')\n",
    "        symbol = 'O'\n",
    "    for move in available_moves(input_board):\n",
    "        new_board = deepcopy(input_board)\n",
    "        select_space(new_board, move, symbol)\n",
    "    return new_board\n",
    "\n",
    "x_winning = [\n",
    "\t[\"X\", \"2\", \"O\"],\n",
    "\t[\"4\", \"O\", \"6\"],\n",
    "\t[\"7\", \"8\", \"X\"]\n",
    "]\n",
    "\n",
    "minimax(x_winning, True)"
   ]
  },
  {
   "cell_type": "markdown",
   "metadata": {},
   "source": [
    "## Recursion in Minimax\n",
    "\n",
    "We have our variable called `best_value`. We’ve made a hypothetical board where we’ve made one of our potential moves. We now want to know whether the value of that board is better than our current `best_value`.\n",
    "\n",
    "In order to find the value of the hypothetical board, we’ll call `minimax()`. But this time our parameters are different! The first parameter isn’t the starting board. Instead, it’s `new_board`, the hypothetical board that we just made.\n",
    "\n",
    "The second parameter is dependent on whether we’re the maximizing or minimizing player. If `is_maximizing` is `True`, then the new parameter should be false `False`. If `is_maximizing` is `False`, then we should give the recursive call `True`.\n",
    "\n",
    "It’s like we’re taking the new board, passing it to the other player, and asking “what would the value of this board be if we gave it to you?”\n",
    "\n",
    "To give the recursive call the opposite of `is_maximizing`, we can give it `not is_maximizing`.\n",
    "\n",
    "That call to `minimax()` will return the value of the hypothetical board. We can then compare the value to our `best_value`. If the value of the hypothetical board was better than `best_value`, then we should make that value the new `best_value`."
   ]
  },
  {
   "cell_type": "code",
   "execution_count": 11,
   "metadata": {},
   "outputs": [
    {
     "name": "stdout",
     "output_type": "stream",
     "text": [
      "1\n",
      "-1\n",
      "0\n"
     ]
    }
   ],
   "source": [
    "def game_is_over(board):\n",
    "    return has_won(board, \"X\") or has_won(board, \"O\") or len(available_moves(board)) == 0\n",
    "\n",
    "def evaluate_board(board):\n",
    "    if has_won(board, \"X\"):\n",
    "        return 1\n",
    "    elif has_won(board, \"O\"):\n",
    "        return -1\n",
    "    else:\n",
    "        return 0\n",
    "\n",
    "new_game = [\n",
    "    [\"1\", \"2\", \"3\"],\n",
    "    [\"4\", \"5\", \"6\"],\n",
    "    [\"7\", \"8\", \"9\"]\n",
    "]\n",
    "\n",
    "x_winning = [\n",
    "    [\"X\", \"2\", \"O\"],\n",
    "    [\"4\", \"O\", \"6\"],\n",
    "    [\"7\", \"8\", \"X\"]\n",
    "]\n",
    "\n",
    "o_winning = [\n",
    "    [\"X\", \"X\", \"O\"],\n",
    "    [\"4\", \"X\", \"6\"],\n",
    "    [\"7\", \"O\", \"O\"]\n",
    "]\n",
    "\n",
    "\n",
    "def minimax(input_board, is_maximizing):\n",
    "    # base case—the game is over, so we return the value of the board\n",
    "    if game_is_over(input_board):\n",
    "        return evaluate_board(input_board)\n",
    "    if is_maximizing == True:\n",
    "        best_value = -(float('Inf'))\n",
    "        symbol = 'X'\n",
    "    else:\n",
    "        best_value = float('Inf')\n",
    "        symbol = 'O'\n",
    "    for move in available_moves(input_board):\n",
    "        new_board = deepcopy(input_board)\n",
    "        select_space(new_board, move, symbol)\n",
    "        hypothetical_value = minimax(new_board, not is_maximizing)\n",
    "        if is_maximizing:\n",
    "            if hypothetical_value > best_value:\n",
    "                best_value = hypothetical_value\n",
    "        else:\n",
    "            if hypothetical_value < best_value:\n",
    "                best_value = hypothetical_value\n",
    "    return best_value\n",
    "\n",
    "print(minimax(x_winning, is_maximizing=True))\n",
    "print(minimax(o_winning, is_maximizing=True))\n",
    "print(minimax(new_game, is_maximizing=True))"
   ]
  },
  {
   "cell_type": "markdown",
   "metadata": {},
   "source": [
    "Right now our `minimax()` function is returning the value of the best possible move. So if our final answer is a `1`, we know that `\"X\"` should be able to win the game. But that doesn’t really help us — we know that `\"X\"` should win, but we aren’t keeping track of what move will cause that!\n",
    "\n",
    "To do this, we need to make two changes to our algorithm. We first need to set up a variable to keep track of the best move (let’s call it `best_move`). Whenever the algorithm finds a new `best_value`, `best_move` variable should be updated to be whatever move resulted in that value.\n",
    "\n",
    "Second, we want the algorithm to return `best_move` at the very end. But in order for the recursion to work, the algorithm is dependent on returning `best_value`. To fix this, we’ll now return a list of two numbers — `[best_value, best_move]`.\n",
    "\n",
    "Let’s edit our minimax function to keep track of which move leads to the best possible value!"
   ]
  },
  {
   "cell_type": "code",
   "execution_count": 12,
   "metadata": {},
   "outputs": [
    {
     "name": "stdout",
     "output_type": "stream",
     "text": [
      "[1, 7]\n",
      "[-1, 4]\n"
     ]
    }
   ],
   "source": [
    "def minimax(input_board, is_maximizing):\n",
    "    # base case—the game is over, so we return the value of the board\n",
    "    if game_is_over(input_board):\n",
    "        return [evaluate_board(input_board), '']\n",
    "        best_move = ''\n",
    "    if is_maximizing == True:\n",
    "        best_value = -(float('Inf'))\n",
    "        symbol = 'X'\n",
    "    else:\n",
    "        best_value = float('Inf')\n",
    "        symbol = 'O'\n",
    "    for move in available_moves(input_board):\n",
    "        new_board = deepcopy(input_board)\n",
    "        select_space(new_board, move, symbol)\n",
    "        hypothetical_value = minimax(new_board, not is_maximizing)[0]\n",
    "        if is_maximizing:\n",
    "            if hypothetical_value > best_value:\n",
    "                best_value = hypothetical_value\n",
    "                best_move = move\n",
    "        else:\n",
    "            if hypothetical_value < best_value:\n",
    "                best_value = hypothetical_value\n",
    "                best_move = move\n",
    "    return [best_value, best_move]\n",
    "\n",
    "print(minimax(x_winning, True))\n",
    "print(minimax(o_winning, True))"
   ]
  },
  {
   "cell_type": "markdown",
   "metadata": {},
   "source": [
    "## Play a Game\n",
    "\n",
    "Our `minimax()` function is now returning a list of `[value, move]`. \n",
    "\n",
    "`move` gives you the number you should pick to play an optimal game of Tic-Tac-Toe for any given game state.\n",
    "\n",
    "Take some time to play a game against the computer. If you’re playing with `\"X\"`s, make your move as `\"X\"`, and then call `minimax()` on the board using `is_maximizing = False`. The second item in that list will tell you the AI’s move. You can then enter the move for the AI as `\"O\"`, make your next move as `\"X\"`, and call the `minimax()` function again to get the AI’s next move."
   ]
  },
  {
   "cell_type": "code",
   "execution_count": 13,
   "metadata": {},
   "outputs": [
    {
     "name": "stdout",
     "output_type": "stream",
     "text": [
      "|-------------|\n",
      "| Tic Tac Toe |\n",
      "|-------------|\n",
      "|             |\n",
      "|    X 2 3    |\n",
      "|    4 5 6    |\n",
      "|    7 8 9    |\n",
      "|             |\n",
      "|-------------|\n",
      "\n",
      "|-------------|\n",
      "| Tic Tac Toe |\n",
      "|-------------|\n",
      "|             |\n",
      "|    X 2 3    |\n",
      "|    4 O 6    |\n",
      "|    7 8 9    |\n",
      "|             |\n",
      "|-------------|\n",
      "\n",
      "|-------------|\n",
      "| Tic Tac Toe |\n",
      "|-------------|\n",
      "|             |\n",
      "|    X X 3    |\n",
      "|    4 O 6    |\n",
      "|    7 8 9    |\n",
      "|             |\n",
      "|-------------|\n",
      "\n",
      "|-------------|\n",
      "| Tic Tac Toe |\n",
      "|-------------|\n",
      "|             |\n",
      "|    X X O    |\n",
      "|    4 O 6    |\n",
      "|    7 8 9    |\n",
      "|             |\n",
      "|-------------|\n",
      "\n",
      "|-------------|\n",
      "| Tic Tac Toe |\n",
      "|-------------|\n",
      "|             |\n",
      "|    X X O    |\n",
      "|    4 O 6    |\n",
      "|    X 8 9    |\n",
      "|             |\n",
      "|-------------|\n",
      "\n",
      "|-------------|\n",
      "| Tic Tac Toe |\n",
      "|-------------|\n",
      "|             |\n",
      "|    X X O    |\n",
      "|    O O 6    |\n",
      "|    X 8 9    |\n",
      "|             |\n",
      "|-------------|\n",
      "\n",
      "|-------------|\n",
      "| Tic Tac Toe |\n",
      "|-------------|\n",
      "|             |\n",
      "|    X X O    |\n",
      "|    O O X    |\n",
      "|    X 8 9    |\n",
      "|             |\n",
      "|-------------|\n",
      "\n",
      "|-------------|\n",
      "| Tic Tac Toe |\n",
      "|-------------|\n",
      "|             |\n",
      "|    X X O    |\n",
      "|    O O X    |\n",
      "|    X O 9    |\n",
      "|             |\n",
      "|-------------|\n",
      "\n",
      "|-------------|\n",
      "| Tic Tac Toe |\n",
      "|-------------|\n",
      "|             |\n",
      "|    X X O    |\n",
      "|    O O X    |\n",
      "|    X O X    |\n",
      "|             |\n",
      "|-------------|\n",
      "\n"
     ]
    }
   ],
   "source": [
    "my_board = [\n",
    "    [\"1\", \"2\", \"3\"],\n",
    "    [\"4\", \"5\", \"6\"],\n",
    "    [\"7\", \"8\", \"9\"]\n",
    "]\n",
    "\n",
    "while not game_is_over(my_board):\n",
    "    select_space(my_board, minimax(my_board, True)[1], 'X')\n",
    "    print_board(my_board)\n",
    "    if not game_is_over(my_board):\n",
    "        select_space(my_board, minimax(my_board, False)[1], 'O')\n",
    "        print_board(my_board)"
   ]
  },
  {
   "cell_type": "markdown",
   "metadata": {},
   "source": [
    "# Review\n",
    "\n",
    "* A game can be represented as a tree. The current state of the game is the root of the tree, and each potential move is a child of that node. The leaves of the tree are game states where the game has ended.\n",
    "* The minimax algorithm returns the best possible move for a given game state. It assumes that your opponent will also be using the minimax algorithm to determine their best move. \n",
    "* Game states can be evaluated and given a specific score. This is relatively easy when the game is over — the score is usually a `1`, `-1` depending on who won. If the game is a tie, the score is usually a `0`."
   ]
  }
 ],
 "metadata": {
  "kernelspec": {
   "display_name": "Python 3",
   "language": "python",
   "name": "python3"
  },
  "language_info": {
   "codemirror_mode": {
    "name": "ipython",
    "version": 3
   },
   "file_extension": ".py",
   "mimetype": "text/x-python",
   "name": "python",
   "nbconvert_exporter": "python",
   "pygments_lexer": "ipython3",
   "version": "3.7.6"
  }
 },
 "nbformat": 4,
 "nbformat_minor": 4
}
