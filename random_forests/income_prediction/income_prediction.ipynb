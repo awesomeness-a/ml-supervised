{
 "cells": [
  {
   "cell_type": "markdown",
   "metadata": {},
   "source": [
    "# Predicting Income with Random Forests\n",
    "\n",
    "In this project, we will be using a dataset containing census information from UCI’s Machine Learning Repository.\n",
    "\n",
    "By using this census data with a random forest, we will try to predict whether or not a person makes more than $50,000.\n",
    "\n",
    "Let’s get started!"
   ]
  },
  {
   "cell_type": "code",
   "execution_count": 1,
   "metadata": {},
   "outputs": [
    {
     "name": "stdout",
     "output_type": "stream",
     "text": [
      "age                          39\n",
      "workclass             State-gov\n",
      "fnlwgt                    77516\n",
      "education             Bachelors\n",
      "education-num                13\n",
      "marital-status    Never-married\n",
      "occupation         Adm-clerical\n",
      "relationship      Not-in-family\n",
      "race                      White\n",
      "sex                        Male\n",
      "capital-gain               2174\n",
      "capital-loss                  0\n",
      "hours-per-week               40\n",
      "native-country    United-States\n",
      "income                    <=50K\n",
      "Name: 0, dtype: object\n",
      "0.8272939442328953\n"
     ]
    }
   ],
   "source": [
    "def warn(*args, **kwargs):\n",
    "    pass\n",
    "import warnings\n",
    "warnings.warn = warn\n",
    "\n",
    "import pandas as pd\n",
    "from sklearn.model_selection import train_test_split\n",
    "from sklearn import tree\n",
    "from sklearn.ensemble import RandomForestClassifier\n",
    "\n",
    "# load the data\n",
    "income_data = pd.read_csv('income.csv', header = 0, delimiter=', ')\n",
    "\n",
    "# print the first row in its entirety\n",
    "print(income_data.iloc[0])\n",
    "\n",
    "# separate the labels from the rest of the data\n",
    "labels = income_data['income']\n",
    "\n",
    "# transform data for later use\n",
    "income_data['sex-int'] = income_data['sex'].apply(lambda row: 0 if row == 'Male' else 1)\n",
    "income_data['country-int'] = income_data['native-country'].apply(lambda row: 0 if row == 'United-States' else 1)\n",
    "\n",
    "# pick which columns to use for income prediction\n",
    "data = income_data[['age', 'capital-gain', 'capital-loss', 'hours-per-week', 'sex-int']]\n",
    "\n",
    "# split our data and labels into a training set and a test set\n",
    "train_data, test_data, train_labels, test_labels = train_test_split(data, labels, random_state=1)\n",
    "\n",
    "# create a RandomForestClassifier\n",
    "forest = RandomForestClassifier(random_state=1)\n",
    "\n",
    "# fit the model using the training data and training labels to train the random forest\n",
    "forest.fit(train_data, train_labels)\n",
    "\n",
    "# test the model's accuracy\n",
    "print(forest.score(test_data, test_labels))\n",
    "#print(income_data['native-country'].value_counts())"
   ]
  },
  {
   "cell_type": "code",
   "execution_count": 2,
   "metadata": {},
   "outputs": [
    {
     "name": "stdout",
     "output_type": "stream",
     "text": [
      "0.8225033779633951\n"
     ]
    }
   ],
   "source": [
    "# add 'country-int' to the columns used when creating data. How does this change the accuracy of your model?\n",
    "data = income_data[['age', 'capital-gain', 'capital-loss', 'hours-per-week', 'sex-int', 'country-int']]\n",
    "\n",
    "# split our data and labels into a training set and a test set\n",
    "train_data, test_data, train_labels, test_labels = train_test_split(data, labels, random_state=1)\n",
    "\n",
    "# create a RandomForestClassifier\n",
    "forest = RandomForestClassifier(random_state=1)\n",
    "\n",
    "# fit the model using the training data and training labels to train the random forest\n",
    "forest.fit(train_data, train_labels)\n",
    "\n",
    "# test the model's accuracy\n",
    "print(forest.score(test_data, test_labels))\n",
    "#print(income_data['native-country'].value_counts())"
   ]
  }
 ],
 "metadata": {
  "kernelspec": {
   "display_name": "Python 3",
   "language": "python",
   "name": "python3"
  },
  "language_info": {
   "codemirror_mode": {
    "name": "ipython",
    "version": 3
   },
   "file_extension": ".py",
   "mimetype": "text/x-python",
   "name": "python",
   "nbconvert_exporter": "python",
   "pygments_lexer": "ipython3",
   "version": "3.7.6"
  }
 },
 "nbformat": 4,
 "nbformat_minor": 4
}
